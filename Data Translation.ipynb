{
 "cells": [
  {
   "cell_type": "markdown",
   "id": "a225faac-32c5-4dfb-bfe8-91c4afdbb971",
   "metadata": {},
   "source": [
    "A Movie Recommendation Service"
   ]
  },
  {
   "cell_type": "markdown",
   "id": "4e0bd301-4d79-4f4d-b518-ea0c6c538739",
   "metadata": {},
   "source": [
    "Source:https://www.codementor.io/@jadianes/building-a-recommender-with-apache-spark-python-example-app-part1-du1083qbw"
   ]
  },
  {
   "cell_type": "code",
   "execution_count": 3,
   "id": "78b4a0fb-3588-44c4-b531-f728e666b11e",
   "metadata": {},
   "outputs": [
    {
     "name": "stderr",
     "output_type": "stream",
     "text": [
      "WARNING: Using incubator modules: jdk.incubator.vector\n",
      "Using Spark's default log4j profile: org/apache/spark/log4j2-defaults.properties\n",
      "Setting default log level to \"WARN\".\n",
      "To adjust logging level use sc.setLogLevel(newLevel). For SparkR, use setLogLevel(newLevel).\n",
      "25/05/29 18:58:05 WARN NativeCodeLoader: Unable to load native-hadoop library for your platform... using builtin-java classes where applicable\n"
     ]
    }
   ],
   "source": [
    "import findspark\n",
    "findspark.init()\n",
    "\n",
    "from pyspark.sql import SparkSession\n",
    "\n",
    "# Start Spark session\n",
    "spark = SparkSession.builder.appName(\"Pumpkinmeter\").getOrCreate()\n"
   ]
  },
  {
   "cell_type": "markdown",
   "id": "0dc4b738-b486-449d-9815-d5dda75776f2",
   "metadata": {},
   "source": [
    "Load MovieLens Full Dataset (25M Ratings)"
   ]
  },
  {
   "cell_type": "markdown",
   "id": "cbd762a0-717a-4449-b12b-063b865db10f",
   "metadata": {},
   "source": [
    "Load Ratings and Movies"
   ]
  },
  {
   "cell_type": "code",
   "execution_count": 18,
   "id": "ce090960-7029-4b1f-a58c-21f0a41b181a",
   "metadata": {},
   "outputs": [
    {
     "name": "stdout",
     "output_type": "stream",
     "text": [
      "+------+-------+------+---------+\n",
      "|userId|movieId|rating|timestamp|\n",
      "+------+-------+------+---------+\n",
      "|     1|      1|   4.0|964982703|\n",
      "|     1|      3|   4.0|964981247|\n",
      "|     1|      6|   4.0|964982224|\n",
      "|     1|     47|   5.0|964983815|\n",
      "|     1|     50|   5.0|964982931|\n",
      "|     1|     70|   3.0|964982400|\n",
      "|     1|    101|   5.0|964980868|\n",
      "|     1|    110|   4.0|964982176|\n",
      "|     1|    151|   5.0|964984041|\n",
      "|     1|    157|   5.0|964984100|\n",
      "+------+-------+------+---------+\n",
      "only showing top 10 rows\n",
      "+-------+--------------------+--------------------+\n",
      "|movieId|               title|              genres|\n",
      "+-------+--------------------+--------------------+\n",
      "|      1|    Toy Story (1995)|Adventure|Animati...|\n",
      "|      2|      Jumanji (1995)|Adventure|Childre...|\n",
      "|      3|Grumpier Old Men ...|      Comedy|Romance|\n",
      "|      4|Waiting to Exhale...|Comedy|Drama|Romance|\n",
      "|      5|Father of the Bri...|              Comedy|\n",
      "|      6|         Heat (1995)|Action|Crime|Thri...|\n",
      "|      7|      Sabrina (1995)|      Comedy|Romance|\n",
      "|      8| Tom and Huck (1995)|  Adventure|Children|\n",
      "|      9| Sudden Death (1995)|              Action|\n",
      "|     10|    GoldenEye (1995)|Action|Adventure|...|\n",
      "+-------+--------------------+--------------------+\n",
      "only showing top 10 rows\n"
     ]
    }
   ],
   "source": [
    "ratings = spark.read.csv(\"/home/ubuntu/ratings.csv\", header=True, inferSchema=True)\n",
    "movies = spark.read.csv(\"/home/ubuntu/movies.csv\", header=True, inferSchema=True)\n",
    "\n",
    "ratings.show(10)\n",
    "movies.show(10)\n",
    "\n",
    "\n"
   ]
  },
  {
   "cell_type": "markdown",
   "id": "5f64b993-def4-4806-8293-0e46b1ff21c4",
   "metadata": {},
   "source": [
    "My Own Ratings (User 1: Aashma)"
   ]
  },
  {
   "cell_type": "code",
   "execution_count": 9,
   "id": "cff1e3a1-c920-4c4f-a589-d03cad8308b5",
   "metadata": {},
   "outputs": [
    {
     "name": "stderr",
     "output_type": "stream",
     "text": [
      "[Stage 6:>                                                          (0 + 1) / 1]"
     ]
    },
    {
     "name": "stdout",
     "output_type": "stream",
     "text": [
      "+------+-------+------+\n",
      "|userId|movieId|rating|\n",
      "+------+-------+------+\n",
      "|999999|      1|   4.5|\n",
      "|999999|      2|   4.0|\n",
      "|999999|      3|   5.0|\n",
      "|999999|      4|   3.5|\n",
      "|999999|      5|   4.0|\n",
      "|999999|      6|   5.0|\n",
      "|999999|      7|   3.0|\n",
      "|999999|      8|   4.0|\n",
      "|999999|      9|   2.5|\n",
      "|999999|     10|   4.5|\n",
      "+------+-------+------+\n",
      "\n"
     ]
    },
    {
     "name": "stderr",
     "output_type": "stream",
     "text": [
      "                                                                                "
     ]
    }
   ],
   "source": [
    "from pyspark.sql import Row\n",
    "\n",
    "new_user_id = 999999\n",
    "\n",
    "# Sample ratings from Aashma\n",
    "new_user_ratings = [\n",
    "    Row(userId=new_user_id, movieId=1, rating=4.5),\n",
    "    Row(userId=new_user_id, movieId=2, rating=4.0),\n",
    "    Row(userId=new_user_id, movieId=3, rating=5.0),\n",
    "    Row(userId=new_user_id, movieId=4, rating=3.5),\n",
    "    Row(userId=new_user_id, movieId=5, rating=4.0),\n",
    "    Row(userId=new_user_id, movieId=6, rating=5.0),\n",
    "    Row(userId=new_user_id, movieId=7, rating=3.0),\n",
    "    Row(userId=new_user_id, movieId=8, rating=4.0),\n",
    "    Row(userId=new_user_id, movieId=9, rating=2.5),\n",
    "    Row(userId=new_user_id, movieId=10, rating=4.5),\n",
    "]\n",
    "\n",
    "# Convert to DataFrame\n",
    "new_user_ratings_df = spark.createDataFrame(new_user_ratings)\n",
    "\n",
    "# Show the DataFrame\n",
    "new_user_ratings_df.show()\n"
   ]
  },
  {
   "cell_type": "markdown",
   "id": "73b03586-af48-4da8-a41d-119310278e48",
   "metadata": {},
   "source": [
    "Merge Custom Ratings with Full Dataset\n",
    "Scenario 1"
   ]
  },
  {
   "cell_type": "code",
   "execution_count": 13,
   "id": "65d8425a-7f99-4f03-a4e0-e2fee6a99db2",
   "metadata": {},
   "outputs": [
    {
     "name": "stdout",
     "output_type": "stream",
     "text": [
      "+------+-------+------+\n",
      "|userId|movieId|rating|\n",
      "+------+-------+------+\n",
      "|     1|      1|   4.0|\n",
      "|     1|      3|   4.0|\n",
      "|     1|      6|   4.0|\n",
      "|     1|     47|   5.0|\n",
      "|     1|     50|   5.0|\n",
      "+------+-------+------+\n",
      "only showing top 5 rows\n"
     ]
    }
   ],
   "source": [
    "# Step 1: Remove the timestamp column from the original ratings\n",
    "ratings_trimmed = ratings.select(\"userId\", \"movieId\", \"rating\")\n",
    "\n",
    "# Step 2: Combine the trimmed ratings with the new user's ratings\n",
    "complete_ratings = ratings_trimmed.union(new_user_ratings_df)\n",
    "\n",
    "# Step 3: Show a sample of the combined dataset\n",
    "complete_ratings.show(5)\n"
   ]
  },
  {
   "cell_type": "markdown",
   "id": "51ef223d-b87d-49ac-9da8-52e9b07b8491",
   "metadata": {},
   "source": [
    "Train the ALS Model"
   ]
  },
  {
   "cell_type": "code",
   "execution_count": 15,
   "id": "37fd0e0a-d09e-4d9d-aca9-35bd476b7af2",
   "metadata": {},
   "outputs": [],
   "source": [
    "from pyspark.ml.recommendation import ALS\n",
    "\n",
    "# Configure ALS model\n",
    "als = ALS(\n",
    "    userCol=\"userId\",\n",
    "    itemCol=\"movieId\",\n",
    "    ratingCol=\"rating\",\n",
    "    maxIter=10,\n",
    "    regParam=0.1,\n",
    "    rank=10,\n",
    "    coldStartStrategy=\"drop\",  # Drop unseen data during prediction\n",
    "    nonnegative=True\n",
    ")\n",
    "\n",
    "# Train the model on the full dataset with my user included\n",
    "als_model = als.fit(complete_ratings)\n"
   ]
  },
  {
   "cell_type": "markdown",
   "id": "d0e6e530-15f9-4016-8b85-77d9826d8c45",
   "metadata": {},
   "source": [
    "Top 15 movie Recommendation for Aashma"
   ]
  },
  {
   "cell_type": "code",
   "execution_count": 31,
   "id": "78009519-00a5-44de-bd79-1dfd701e1924",
   "metadata": {},
   "outputs": [
    {
     "name": "stdout",
     "output_type": "stream",
     "text": [
      "+------+-------------------------------------------------------------------------------------------------------------------------------------------------------------------------------------------------------------------------------------------------------------------------------------------------+\n",
      "|userId|recommendations                                                                                                                                                                                                                                                                                  |\n",
      "+------+-------------------------------------------------------------------------------------------------------------------------------------------------------------------------------------------------------------------------------------------------------------------------------------------------+\n",
      "|999999|[{3925, 6.025569}, {26171, 5.8630714}, {60943, 5.8064995}, {59018, 5.8064995}, {7842, 5.7942743}, {33649, 5.5779705}, {6086, 5.560388}, {3379, 5.5535126}, {171495, 5.54708}, {156726, 5.515937}, {102217, 5.4728765}, {92494, 5.4728765}, {78836, 5.463717}, {7096, 5.460529}, {1223, 5.453019}]|\n",
      "+------+-------------------------------------------------------------------------------------------------------------------------------------------------------------------------------------------------------------------------------------------------------------------------------------------------+\n",
      "\n"
     ]
    }
   ],
   "source": [
    "from pyspark.sql import Row\n",
    "\n",
    "# Create a DataFrame with just Aashma's userId\n",
    "aashma_user_df = spark.createDataFrame([Row(userId=999999)])\n",
    "\n",
    "# Generate top 15 recommendations for Aashma\n",
    "aashma_recommendations = als_model.recommendForUserSubset(ashma_user_df, 15)\n",
    "\n",
    "# Show recommendations\n",
    "aashma_recommendations.show(truncate=False)\n"
   ]
  },
  {
   "cell_type": "markdown",
   "id": "7e478b57-93db-4c7a-9f6b-f3cf43585778",
   "metadata": {},
   "source": [
    "Join Recommendatios with Movie Tiitles"
   ]
  },
  {
   "cell_type": "code",
   "execution_count": 32,
   "id": "14f98db3-0d4c-41da-8252-4c3cd0bae5f1",
   "metadata": {},
   "outputs": [
    {
     "name": "stdout",
     "output_type": "stream",
     "text": [
      "+-------+-----------------------------------------------+----------------+\n",
      "|movieId|title                                          |predicted_rating|\n",
      "+-------+-----------------------------------------------+----------------+\n",
      "|3925   |Stranger Than Paradise (1984)                  |6.025569        |\n",
      "|26171  |Play Time (a.k.a. Playtime) (1967)             |5.8630714       |\n",
      "|60943  |Frozen River (2008)                            |5.8064995       |\n",
      "|59018  |Visitor, The (2007)                            |5.8064995       |\n",
      "|7842   |Dune (2000)                                    |5.7942743       |\n",
      "|33649  |Saving Face (2004)                             |5.5779705       |\n",
      "|6086   |I, the Jury (1982)                             |5.560388        |\n",
      "|3379   |On the Beach (1959)                            |5.5535126       |\n",
      "|171495 |Cosmos                                         |5.54708         |\n",
      "|156726 |Hush (2016)                                    |5.515937        |\n",
      "|102217 |Bill Hicks: Revelations (1993)                 |5.4728765       |\n",
      "|92494  |Dylan Moran: Monster (2004)                    |5.4728765       |\n",
      "|78836  |Enter the Void (2009)                          |5.463717        |\n",
      "|7096   |Rivers and Tides (2001)                        |5.460529        |\n",
      "|1223   |Grand Day Out with Wallace and Gromit, A (1989)|5.453019        |\n",
      "+-------+-----------------------------------------------+----------------+\n",
      "\n"
     ]
    }
   ],
   "source": [
    "from pyspark.sql.functions import explode\n",
    "\n",
    "# Explode the nested 'recommendations' column\n",
    "exploded_recs = aashma_recommendations.selectExpr(\"userId\", \"explode(recommendations) as rec\") \\\n",
    "                                     .selectExpr(\"userId\", \"rec.movieId as movieId\", \"rec.rating as predicted_rating\")\n",
    "\n",
    "# Join with movies to get titles\n",
    "recommended_movies = exploded_recs.join(movies, on=\"movieId\")\n",
    "\n",
    "# Show final recommendations with titles\n",
    "recommended_movies.select(\"movieId\", \"title\", \"predicted_rating\").show(truncate=False)\n"
   ]
  },
  {
   "cell_type": "markdown",
   "id": "72ac1634-e475-4ab5-b809-39674b1636c7",
   "metadata": {},
   "source": [
    "Scenario 2 — Filter Movies with ≥100 Ratings"
   ]
  },
  {
   "cell_type": "code",
   "execution_count": 20,
   "id": "5a0aad54-9d5c-4375-a312-d1ee23482764",
   "metadata": {},
   "outputs": [],
   "source": [
    "from pyspark.sql.functions import count\n",
    "\n",
    "# Count the number of ratings per movie\n",
    "movie_rating_counts = ratings.groupBy(\"movieId\").agg(count(\"rating\").alias(\"rating_count\"))\n",
    "\n",
    "# Filter movies with at least 100 ratings\n",
    "popular_movies = movie_rating_counts.filter(\"rating_count >= 100\")\n",
    "\n",
    "# Join with ratings to keep only those movies\n",
    "ratings_100 = ratings.join(popular_movies, on=\"movieId\").select(\"userId\", \"movieId\", \"rating\")\n"
   ]
  },
  {
   "cell_type": "markdown",
   "id": "2929417e-66d1-4b13-9d7c-795a97d5e7ff",
   "metadata": {},
   "source": [
    "Merge my ratings again"
   ]
  },
  {
   "cell_type": "code",
   "execution_count": 21,
   "id": "d93b87b5-f4a0-4d9a-8c7e-638d61625827",
   "metadata": {},
   "outputs": [],
   "source": [
    "# Reuse Ashma's ratings and merge again\n",
    "complete_ratings_100 = ratings_100.union(new_user_ratings_df)\n"
   ]
  },
  {
   "cell_type": "markdown",
   "id": "1991c9cd-d199-4891-806d-6b4eba57b4fe",
   "metadata": {},
   "source": [
    "Retrain ALS on this filtered dataset"
   ]
  },
  {
   "cell_type": "code",
   "execution_count": 22,
   "id": "8a1febf3-b332-4e26-bf1a-37cc1d24cef5",
   "metadata": {},
   "outputs": [],
   "source": [
    "# Train ALS on movies with ≥100 ratings\n",
    "als_model_100 = als.fit(complete_ratings_100)\n"
   ]
  },
  {
   "cell_type": "markdown",
   "id": "153073ce-47f4-4988-a974-72b1fee0744c",
   "metadata": {},
   "source": [
    " Generate recommendations again for Aashma"
   ]
  },
  {
   "cell_type": "code",
   "execution_count": 23,
   "id": "b74be82a-ebf8-4b4b-aae0-e2f7804bb262",
   "metadata": {},
   "outputs": [
    {
     "name": "stdout",
     "output_type": "stream",
     "text": [
      "+-------+------------------------------------------------------------------------------+----------------+\n",
      "|movieId|title                                                                         |predicted_rating|\n",
      "+-------+------------------------------------------------------------------------------+----------------+\n",
      "|3      |Grumpier Old Men (1995)                                                       |4.8226166       |\n",
      "|2571   |Matrix, The (1999)                                                            |4.8085594       |\n",
      "|318    |Shawshank Redemption, The (1994)                                              |4.8035283       |\n",
      "|79132  |Inception (2010)                                                              |4.7923355       |\n",
      "|1198   |Raiders of the Lost Ark (Indiana Jones and the Raiders of the Lost Ark) (1981)|4.651085        |\n",
      "|48516  |Departed, The (2006)                                                          |4.6207833       |\n",
      "|58559  |Dark Knight, The (2008)                                                       |4.6079555       |\n",
      "|1197   |Princess Bride, The (1987)                                                    |4.5877056       |\n",
      "|356    |Forrest Gump (1994)                                                           |4.587057        |\n",
      "|3578   |Gladiator (2000)                                                              |4.5472527       |\n",
      "|527    |Schindler's List (1993)                                                       |4.539815        |\n",
      "|2028   |Saving Private Ryan (1998)                                                    |4.5384016       |\n",
      "|1213   |Goodfellas (1990)                                                             |4.5359154       |\n",
      "|4963   |Ocean's Eleven (2001)                                                         |4.535347        |\n",
      "|912    |Casablanca (1942)                                                             |4.534272        |\n",
      "+-------+------------------------------------------------------------------------------+----------------+\n",
      "\n"
     ]
    }
   ],
   "source": [
    "# Reuse Ashma's user DataFrame\n",
    "ashma_recommendations_100 = als_model_100.recommendForUserSubset(ashma_user_df, 15)\n",
    "\n",
    "# Explode and map to titles\n",
    "exploded_100 = ashma_recommendations_100.selectExpr(\"userId\", \"explode(recommendations) as rec\") \\\n",
    "                                        .selectExpr(\"userId\", \"rec.movieId as movieId\", \"rec.rating as predicted_rating\")\n",
    "\n",
    "# Join with movies for titles\n",
    "recommended_100 = exploded_100.join(movies, on=\"movieId\")\n",
    "\n",
    "# Show results\n",
    "recommended_100.select(\"movieId\", \"title\", \"predicted_rating\").show(truncate=False)\n"
   ]
  },
  {
   "cell_type": "markdown",
   "id": "2eab117d-5111-423a-bfe3-b192f006896d",
   "metadata": {},
   "source": [
    "Add Ratings for User 2 (My Friend)"
   ]
  },
  {
   "cell_type": "code",
   "execution_count": 24,
   "id": "2be2b270-c591-415d-8f2b-3944c2419b86",
   "metadata": {},
   "outputs": [],
   "source": [
    "userId = 888888  # for my freind\n"
   ]
  },
  {
   "cell_type": "markdown",
   "id": "6df7f75d-6b22-4c99-bb58-1368b6935ac7",
   "metadata": {},
   "source": [
    "1. Add 10 ratings for User 2"
   ]
  },
  {
   "cell_type": "code",
   "execution_count": 26,
   "id": "9a629787-90fa-43c3-8daf-c6e3ae45a4ba",
   "metadata": {},
   "outputs": [],
   "source": [
    "# Sample ratings for User 2\n",
    "user2_ratings = [\n",
    "    Row(userId=888888, movieId=1, rating=3.5),\n",
    "    Row(userId=888888, movieId=2, rating=4.0),\n",
    "    Row(userId=888888, movieId=5, rating=2.5),\n",
    "    Row(userId=888888, movieId=6, rating=4.0),\n",
    "    Row(userId=888888, movieId=10, rating=3.5),\n",
    "    Row(userId=888888, movieId=11, rating=5.0),\n",
    "    Row(userId=888888, movieId=15, rating=4.0),\n",
    "    Row(userId=888888, movieId=17, rating=3.0),\n",
    "    Row(userId=888888, movieId=20, rating=4.5),\n",
    "    Row(userId=888888, movieId=22, rating=4.0)\n",
    "]\n",
    "\n",
    "user2_ratings_df = spark.createDataFrame(user2_ratings)\n"
   ]
  },
  {
   "cell_type": "markdown",
   "id": "042f704e-d43a-4524-a92f-7c21d3d92055",
   "metadata": {},
   "source": [
    "Merge User 2 Ratings with the Dataset"
   ]
  },
  {
   "cell_type": "markdown",
   "id": "21c120b2-c54d-4a8a-9496-083dd3329850",
   "metadata": {},
   "source": [
    "A. Scenario 1 — Full Dataset (No filter)"
   ]
  },
  {
   "cell_type": "code",
   "execution_count": 27,
   "id": "6185bc1f-f2a3-4120-8998-206c61f22782",
   "metadata": {},
   "outputs": [],
   "source": [
    "# Drop timestamp to match schema\n",
    "ratings_trimmed_user2 = ratings.select(\"userId\", \"movieId\", \"rating\")\n",
    "\n",
    "# Combine with User 2's ratings\n",
    "complete_ratings_user2 = ratings_trimmed_user2.union(user2_ratings_df)\n"
   ]
  },
  {
   "cell_type": "markdown",
   "id": "54fd13b0-1c17-470c-9079-62cf8fdc2f12",
   "metadata": {},
   "source": [
    "B. Train ALS Model for User 2"
   ]
  },
  {
   "cell_type": "code",
   "execution_count": 28,
   "id": "23df4b9c-03b4-43e3-b5ae-0d3cf64c3240",
   "metadata": {},
   "outputs": [],
   "source": [
    "# Train ALS model with full dataset + User 2\n",
    "als_model_user2 = als.fit(complete_ratings_user2)\n"
   ]
  },
  {
   "cell_type": "markdown",
   "id": "80bab48d-6895-4986-bba7-ee366d2d3f27",
   "metadata": {},
   "source": [
    "C. Get Top 15 Recommendations for User 2"
   ]
  },
  {
   "cell_type": "code",
   "execution_count": 29,
   "id": "2083230f-c16c-4257-af29-162668c02397",
   "metadata": {},
   "outputs": [
    {
     "name": "stdout",
     "output_type": "stream",
     "text": [
      "+-------+------------------------------------------------------------------+----------------+\n",
      "|movieId|title                                                             |predicted_rating|\n",
      "+-------+------------------------------------------------------------------+----------------+\n",
      "|32892  |Ivan's Childhood (a.k.a. My Name is Ivan) (Ivanovo detstvo) (1962)|5.357841        |\n",
      "|159858 |The Conjuring 2 (2016)                                            |5.2922397       |\n",
      "|7121   |Adam's Rib (1949)                                                 |5.282956        |\n",
      "|42730  |Glory Road (2006)                                                 |5.1748304       |\n",
      "|93008  |Very Potter Sequel, A (2010)                                      |5.1359167       |\n",
      "|77846  |12 Angry Men (1997)                                               |5.1359167       |\n",
      "|25906  |Mr. Skeffington (1944)                                            |5.1359167       |\n",
      "|5867   |Thief (1981)                                                      |5.1087136       |\n",
      "|5466   |My Wife is an Actress (Ma Femme est une Actrice) (2001)           |4.9564548       |\n",
      "|3086   |Babes in Toyland (1934)                                           |4.9532623       |\n",
      "|935    |Band Wagon, The (1953)                                            |4.944693        |\n",
      "|3846   |Easy Money (1983)                                                 |4.9355464       |\n",
      "|185029 |A Quiet Place (2018)                                              |4.934326        |\n",
      "|92259  |Intouchables (2011)                                               |4.9320936       |\n",
      "|166534 |Split (2017)                                                      |4.9262176       |\n",
      "+-------+------------------------------------------------------------------+----------------+\n",
      "\n"
     ]
    }
   ],
   "source": [
    "# Create DataFrame for User 2\n",
    "user2_df = spark.createDataFrame([Row(userId=888888)])\n",
    "\n",
    "# Generate recommendations\n",
    "recommendations_user2 = als_model_user2.recommendForUserSubset(user2_df, 15)\n",
    "\n",
    "# Map to titles\n",
    "recs_user2 = recommendations_user2.selectExpr(\"userId\", \"explode(recommendations) as rec\") \\\n",
    "                                  .selectExpr(\"userId\", \"rec.movieId as movieId\", \"rec.rating as predicted_rating\")\n",
    "\n",
    "recs_user2_with_titles = recs_user2.join(movies, on=\"movieId\")\n",
    "\n",
    "# Show result\n",
    "recs_user2_with_titles.select(\"movieId\", \"title\", \"predicted_rating\").show(truncate=False)\n"
   ]
  },
  {
   "cell_type": "markdown",
   "id": "2dd5491f-cf73-4512-854a-70c9b703fd98",
   "metadata": {},
   "source": [
    "Scenario 2 — Filter Movies with ≥100 Ratings"
   ]
  },
  {
   "cell_type": "code",
   "execution_count": 30,
   "id": "5dbd1c2c-499c-4f6e-b695-18617858ba7a",
   "metadata": {},
   "outputs": [
    {
     "name": "stdout",
     "output_type": "stream",
     "text": [
      "+-------+--------------------------------+----------------+\n",
      "|movieId|title                           |predicted_rating|\n",
      "+-------+--------------------------------+----------------+\n",
      "|11     |American President, The (1995)  |4.7985916       |\n",
      "|20     |Money Train (1995)              |4.3187323       |\n",
      "|79132  |Inception (2010)                |4.1376877       |\n",
      "|2028   |Saving Private Ryan (1998)      |4.099926        |\n",
      "|356    |Forrest Gump (1994)             |4.093837        |\n",
      "|318    |Shawshank Redemption, The (1994)|4.07812         |\n",
      "|3147   |Green Mile, The (1999)          |4.036998        |\n",
      "|110    |Braveheart (1995)               |4.021549        |\n",
      "|912    |Casablanca (1942)               |4.0184          |\n",
      "|2571   |Matrix, The (1999)              |3.9839067       |\n",
      "|4995   |Beautiful Mind, A (2001)        |3.976591        |\n",
      "|527    |Schindler's List (1993)         |3.9654548       |\n",
      "|3578   |Gladiator (2000)                |3.9590144       |\n",
      "|1270   |Back to the Future (1985)       |3.9013407       |\n",
      "|593    |Silence of the Lambs, The (1991)|3.8983011       |\n",
      "+-------+--------------------------------+----------------+\n",
      "\n"
     ]
    }
   ],
   "source": [
    "# Reuse earlier filtered data: ratings_100\n",
    "complete_ratings_100_user2 = ratings_100.union(user2_ratings_df)\n",
    "\n",
    "# Train ALS again\n",
    "als_model_100_user2 = als.fit(complete_ratings_100_user2)\n",
    "\n",
    "# Get recommendations\n",
    "recommendations_user2_100 = als_model_100_user2.recommendForUserSubset(user2_df, 15)\n",
    "\n",
    "# Map to titles\n",
    "recs_user2_100 = recommendations_user2_100.selectExpr(\"userId\", \"explode(recommendations) as rec\") \\\n",
    "                                          .selectExpr(\"userId\", \"rec.movieId as movieId\", \"rec.rating as predicted_rating\") \\\n",
    "                                          .join(movies, on=\"movieId\")\n",
    "\n",
    "# Show recommendations for Scenario 2\n",
    "recs_user2_100.select(\"movieId\", \"title\", \"predicted_rating\").show(truncate=False)\n"
   ]
  },
  {
   "cell_type": "markdown",
   "id": "33bf6a37-8dd6-4ab0-8302-18c199f48f73",
   "metadata": {},
   "source": [
    "Insights and Foresights: Scenario Comparison"
   ]
  },
  {
   "cell_type": "markdown",
   "id": "9a3be446-425c-46e8-8244-455e7bc8d044",
   "metadata": {},
   "source": [
    "Scenario 1: Full Dataset (No Rating Threshold)\n",
    "\n",
    "In this scenario, the recommendation model was trained on all available movies, including those with very few ratings. As a result, the system had access to a wider range of movie options, including niche or less mainstream titles. For both users (Aashma(me) and My friend), the recommendations were often diverse, with some lesser-known or unique titles being suggested. This scenario shows strong personalization potential, particularly when users have rated a mix of mainstream and less common movies. However, because low-rated or rarely rated movies were included, there is a higher chance of recommending less reliable titles, possibly due to limited collaborative signals."
   ]
  },
  {
   "cell_type": "markdown",
   "id": "b5eb6e2e-c427-4103-8e25-1b8eccbd4984",
   "metadata": {},
   "source": [
    "Scenario 2: Filtered Dataset (Movies with ≥100 Ratings)\n",
    "\n",
    "In the second scenario, I filtered out all movies with fewer than 100 ratings before training the ALS model. This approach removed less popular or obscure titles and focused only on movies with strong viewer engagement. As expected, the recommendations leaned heavily toward popular, mainstream titles that have been consistently rated by many users. While this ensured a higher degree of recommendation reliability, it somewhat reduced the diversity and personalization of the suggestions. The model was more cautious and less exploratory, offering safe and broadly liked options rather than niche content.\n",
    "\n"
   ]
  },
  {
   "cell_type": "markdown",
   "id": "20d2175d-4a9c-40b3-bcb3-584ebb04be15",
   "metadata": {},
   "source": [
    "Final Foresights and Business Implications\n",
    "\n",
    "For a movie recommendation startup like Ripe Pumpkins, it may be best to:Use Scenario 1 (full dataset) for long-term users with well-established profiles and a history of diverse tastes and Use Scenario 2 (filtered dataset) for new users with limited ratings to ensure trust in recommendations.\n",
    "We can consider a hybrid model that starts with popular content (Scenario 2) and gradually incorporates more niche titles (Scenario 1) as user preference data grows.Leverage Pumpkinmeter scores to highlight how \"mainstream\" or \"personalized\" a recommendation is, improving transparency and user trust."
   ]
  },
  {
   "cell_type": "code",
   "execution_count": null,
   "id": "ad0bda0a-f9e0-41f8-9aa1-1a9d11143219",
   "metadata": {},
   "outputs": [],
   "source": []
  }
 ],
 "metadata": {
  "kernelspec": {
   "display_name": "Python (pumpkinenv)",
   "language": "python",
   "name": "pumpkinenv"
  },
  "language_info": {
   "codemirror_mode": {
    "name": "ipython",
    "version": 3
   },
   "file_extension": ".py",
   "mimetype": "text/x-python",
   "name": "python",
   "nbconvert_exporter": "python",
   "pygments_lexer": "ipython3",
   "version": "3.12.3"
  }
 },
 "nbformat": 4,
 "nbformat_minor": 5
}
